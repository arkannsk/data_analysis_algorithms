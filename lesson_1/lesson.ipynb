{
 "cells": [
  {
   "cell_type": "code",
   "execution_count": 1,
   "metadata": {
    "collapsed": true
   },
   "outputs": [],
   "source": [
    "import numpy as np\n",
    "\n",
    "def calc_mse(y, y_pred):\n",
    "    err = np.mean((y - y_pred)**2)\n",
    "    return err"
   ]
  },
  {
   "cell_type": "markdown",
   "source": [
    "1. Подберите скорость обучения (eta) и количество итераций"
   ],
   "metadata": {
    "collapsed": false,
    "pycharm": {
     "name": "#%% md\n"
    }
   }
  },
  {
   "cell_type": "code",
   "execution_count": 2,
   "outputs": [
    {
     "name": "stdout",
     "output_type": "stream",
     "text": [
      "Number of objects = 10        \n",
      "Learning rate = 0.0624        \n",
      "Initial weights = [1.  0.5] \n",
      "\n",
      "Iteration #0: W_new = [ 7.7392 24.0248], MSE = 3047.75\n",
      "Iteration #10: W_new = [23.87708095 19.86793527], MSE = 2912.0\n",
      "Iteration #20: W_new = [30.91059564  7.85445001], MSE = 208.12\n",
      "Iteration #30: W_new = [35.75636814  5.51841364], MSE = 88.53\n",
      "Iteration #40: W_new = [38.80004254  4.9481165 ], MSE = 63.96\n",
      "Iteration #50: W_new = [40.69223757  4.60497971], MSE = 53.64\n",
      "Iteration #60: W_new = [41.90961593  4.38422691], MSE = 48.97\n",
      "Iteration #70: W_new = [42.71831232  4.23758229], MSE = 46.71\n",
      "Iteration #80: W_new = [43.27132881  4.13730128], MSE = 45.56\n",
      "Iteration #90: W_new = [43.65957032  4.06689967], MSE = 44.94\n",
      "Iteration #100: W_new = [43.93870239  4.01628337], MSE = 44.59\n",
      "Iteration #110: W_new = [44.14376967  3.97909758], MSE = 44.38\n",
      "Iteration #120: W_new = [44.29740422  3.95123832], MSE = 44.25\n",
      "Iteration #130: W_new = [44.41456909  3.92999228], MSE = 44.17\n",
      "Iteration #140: W_new = [44.50537343  3.91352631], MSE = 44.12\n",
      "Iteration #150: W_new = [44.57678506  3.90057692], MSE = 44.08\n",
      "Iteration #160: W_new = [44.6336962   3.89025696], MSE = 44.06\n",
      "Iteration #170: W_new = [44.67960119  3.8819328 ], MSE = 44.04\n",
      "Iteration #180: W_new = [44.71703591  3.87514459], MSE = 44.03\n",
      "Iteration #190: W_new = [44.74786809  3.86955365], MSE = 44.02\n",
      "Iteration #200: W_new = [44.7734924   3.86490707], MSE = 44.01\n",
      "Iteration #210: W_new = [44.79496371  3.86101358], MSE = 44.0\n",
      "Iteration #220: W_new = [44.81308951  3.85772675], MSE = 44.0\n",
      "Iteration #230: W_new = [44.82849485  3.85493323], MSE = 43.99\n",
      "Iteration #240: W_new = [44.8416687   3.85254435], MSE = 43.99\n",
      "Iteration #250: W_new = [44.85299733  3.85049008], MSE = 43.99\n",
      "Iteration #260: W_new = [44.86278868  3.84871457], MSE = 43.99\n",
      "Iteration #270: W_new = [44.87129042  3.84717291], MSE = 43.99\n",
      "Iteration #280: W_new = [44.87870337  3.84582869], MSE = 43.98\n",
      "Iteration #290: W_new = [44.88519158  3.84465215], MSE = 43.98\n"
     ]
    }
   ],
   "source": [
    "X = np.array([[ 1,  1],\n",
    "              [ 1,  1],\n",
    "              [ 1,  2],\n",
    "              [ 1,  5],\n",
    "              [ 1,  3],\n",
    "              [ 1,  0],\n",
    "              [ 1,  5],\n",
    "              [ 1, 10],\n",
    "              [ 1,  1],\n",
    "              [ 1,  2]])\n",
    "y = [45, 55, 50, 55, 60, 35, 75, 80, 50, 60]\n",
    "\n",
    "n = X.shape[0]\n",
    "\n",
    "# ИЗМЕНЕНИЕ\n",
    "eta = 0.0624\n",
    "# ИЗМЕНЕНИЕ\n",
    "n_iter = 300\n",
    "\n",
    "W = np.array([1, 0.5])\n",
    "print(f'Number of objects = {n} \\\n",
    "       \\nLearning rate = {eta} \\\n",
    "       \\nInitial weights = {W} \\n')\n",
    "\n",
    "for i in range(n_iter):\n",
    "    y_pred = np.dot(X, W)\n",
    "    err = calc_mse(y, y_pred)\n",
    "    for k in range(W.shape[0]):\n",
    "        W[k] -= eta * (1/n * 2 * X[:, k] @ (y_pred - y))\n",
    "    if i % 10 == 0:\n",
    "        eta /= 1.1\n",
    "        print(f'Iteration #{i}: W_new = {W}, MSE = {round(err, 2)}')"
   ],
   "metadata": {
    "collapsed": false,
    "pycharm": {
     "name": "#%%\n"
    }
   }
  },
  {
   "cell_type": "markdown",
   "source": [
    "2*. В этом коде мы избавляемся от итераций по весам, но тут есть ошибка, исправьте ее"
   ],
   "metadata": {
    "collapsed": false
   }
  },
  {
   "cell_type": "code",
   "execution_count": 3,
   "outputs": [
    {
     "name": "stdout",
     "output_type": "stream",
     "text": [
      "Number of objects = 10        \n",
      "Learning rate = 0.035        \n",
      "Initial weights = [1.  0.5] \n",
      "\n",
      "Iteration #0: W_new = [ 4.78  13.695], MSE = 3047.75\n",
      "Iteration #10: W_new = [15.61270926  9.15276647], MSE = 479.84\n",
      "Iteration #20: W_new = [23.77150925  7.6732929 ], MSE = 271.78\n",
      "Iteration #30: W_new = [29.66998709  6.60369489], MSE = 163.04\n",
      "Iteration #40: W_new = [33.93434459  5.83041941], MSE = 106.2\n",
      "Iteration #50: W_new = [37.01730014  5.27137295], MSE = 76.5\n",
      "Iteration #60: W_new = [39.24615053  4.8672053 ], MSE = 60.97\n",
      "Iteration #70: W_new = [40.85751793  4.57500867], MSE = 52.85\n",
      "Iteration #80: W_new = [42.02247046  4.36376249], MSE = 48.61\n",
      "Iteration #90: W_new = [42.86468335  4.21104016], MSE = 46.4\n",
      "Iteration #100: W_new = [43.47356872  4.10062819], MSE = 45.24\n",
      "Iteration #110: W_new = [43.91376787  4.02080486], MSE = 44.63\n",
      "Iteration #120: W_new = [44.23201379  3.96309587], MSE = 44.32\n",
      "Iteration #130: W_new = [44.46209254  3.92137464], MSE = 44.15\n",
      "Iteration #140: W_new = [44.62843003  3.8912119 ], MSE = 44.06\n",
      "Iteration #150: W_new = [44.74868522  3.86940547], MSE = 44.02\n",
      "Iteration #160: W_new = [44.83562479  3.85364032], MSE = 43.99\n",
      "Iteration #170: W_new = [44.89847853  3.84224276], MSE = 43.98\n",
      "Iteration #180: W_new = [44.9439192  3.8340028], MSE = 43.98\n",
      "Iteration #190: W_new = [44.97677095  3.82804564], MSE = 43.97\n",
      "Iteration #200: W_new = [45.00052141  3.82373886], MSE = 43.97\n",
      "Iteration #210: W_new = [45.01769202  3.82062524], MSE = 43.97\n",
      "Iteration #220: W_new = [45.03010567  3.81837421], MSE = 43.97\n",
      "Iteration #230: W_new = [45.03908023  3.81674681], MSE = 43.97\n",
      "Iteration #240: W_new = [45.04556847  3.81557027], MSE = 43.97\n"
     ]
    }
   ],
   "source": [
    "n = X.shape[0]\n",
    "\n",
    "# ИЗМЕНЕНИЯ\n",
    "eta = 0.035\n",
    "n_iter = 250\n",
    "# ИЗМЕНЕНИЯ\n",
    "\n",
    "W = np.array([1, 0.5])\n",
    "print(f'Number of objects = {n} \\\n",
    "       \\nLearning rate = {eta} \\\n",
    "       \\nInitial weights = {W} \\n')\n",
    "\n",
    "for i in range(n_iter):\n",
    "    y_pred = np.dot(X, W)\n",
    "    err = calc_mse(y, y_pred)\n",
    "    # ИЗМЕНЕНИЯ\n",
    "    dQ = 2/n * X.T @ (X @ W - y)\n",
    "    grad = eta * dQ\n",
    "    W = W - grad\n",
    "    # ИЗМЕНЕНИЯ\n",
    "    if i % 10 == 0:\n",
    "        print(f'Iteration #{i}: W_new = {W}, MSE = {round(err,2)}')"
   ],
   "metadata": {
    "collapsed": false,
    "pycharm": {
     "name": "#%%\n"
    }
   }
  },
  {
   "cell_type": "markdown",
   "source": [
    "3*. Вместо того, чтобы задавать количество итераций, задайте другое условие останова алгоритма - когда веса перестают изменяться меньше определенного порога $\\epsilon$."
   ],
   "metadata": {
    "collapsed": false
   }
  },
  {
   "cell_type": "code",
   "execution_count": 4,
   "outputs": [
    {
     "name": "stdout",
     "output_type": "stream",
     "text": [
      "Number of objects = 10        \n",
      "Learning rate = 0.035        \n",
      "Initial weights = [1.  0.5] \n",
      "\n",
      "iteration break on 200, MSE = 43.9707\n"
     ]
    }
   ],
   "source": [
    "n = X.shape[0]\n",
    "\n",
    "eps = 0.0001\n",
    "eta = 0.035\n",
    "max_iter = 1000\n",
    "\n",
    "W = np.array([1, 0.5])\n",
    "print(f'Number of objects = {n} \\\n",
    "       \\nLearning rate = {eta} \\\n",
    "       \\nInitial weights = {W} \\n')\n",
    "\n",
    "last_err = 0\n",
    "for i in range(max_iter):\n",
    "    y_pred = np.dot(X, W)\n",
    "    err = calc_mse(y, y_pred)\n",
    "\n",
    "    dQ = 2/n * X.T @ (X @ W - y)\n",
    "    grad = eta * dQ\n",
    "    W = W - grad\n",
    "\n",
    "    if last_err > 0 and last_err - eps < round(err,4) :\n",
    "        print(f'iteration break on {i}, MSE = {round(err,4)}')\n",
    "        break\n",
    "\n",
    "    last_err = round(err,4)\n"
   ],
   "metadata": {
    "collapsed": false,
    "pycharm": {
     "name": "#%%\n"
    }
   }
  }
 ],
 "metadata": {
  "kernelspec": {
   "display_name": "Python 3",
   "language": "python",
   "name": "python3"
  },
  "language_info": {
   "codemirror_mode": {
    "name": "ipython",
    "version": 2
   },
   "file_extension": ".py",
   "mimetype": "text/x-python",
   "name": "python",
   "nbconvert_exporter": "python",
   "pygments_lexer": "ipython2",
   "version": "2.7.6"
  }
 },
 "nbformat": 4,
 "nbformat_minor": 0
}